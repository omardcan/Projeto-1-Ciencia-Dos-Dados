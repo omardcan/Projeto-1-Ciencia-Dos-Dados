{
 "cells": [
  {
   "cell_type": "markdown",
   "metadata": {},
   "source": [
    "# Pergunta?\n",
    "Como podemos relacionar Pessoas Mortas Por Epidemias e Consumo de Energia Per Capita com HDI?\n",
    "## Introdução:\n",
    "No projeto 1 de Ciência de Dados, devemos cruzar os três indicadores populacionais, através da combinação de phyton com a biblioteca pandas, visando a união dos indicadores em tabelas e sua consequente relação por meio de gráficos. Sendo um dos indicadores, obrigatoriamente, o HDI (Human Development Index), os demais podem ser escolhidos a critério do aluno. Neste caso, foram escolhidos o número mortos por epidemia e consumo de energia per capita. No caso do país subdesenvolvido será questionado o quanto seu baixo HDI se relaciona com o primeiro tema escolhido, enquanto que no país desenvolvido se seu alto HDI tem relação direta com o segundo tema."
   ]
  },
  {
   "cell_type": "code",
   "execution_count": 66,
   "metadata": {},
   "outputs": [],
   "source": [
    "import pandas as pd\n",
    "import matplotlib.pyplot as plt\n",
    "import seaborn as sns"
   ]
  },
  {
   "cell_type": "code",
   "execution_count": 67,
   "metadata": {},
   "outputs": [],
   "source": [
    "IDH = pd.read_excel('hdi_human_development_index.xlsx')\n",
    "CONSUMODEENERGIAPORPESSOA = pd.read_excel('IND.xlsx')\n",
    "MORTESEPIDEMIAS = pd.read_excel('indicator_epidemic killed.xlsx')"
   ]
  },
  {
   "cell_type": "code",
   "execution_count": 68,
   "metadata": {},
   "outputs": [],
   "source": [
    "HDI = IDH.loc[:,['geo',2002]]\n",
    "HH = HDI.set_index(\"geo\")"
   ]
  },
  {
   "cell_type": "code",
   "execution_count": 69,
   "metadata": {},
   "outputs": [],
   "source": [
    "CONSUMO_ENERGIA_PER_CAPITA = CONSUMODEENERGIAPORPESSOA.loc[:,['Electricity consumption, per capita (kWh)','2002']]\n",
    "ce = CONSUMO_ENERGIA_PER_CAPITA.set_index(\"Electricity consumption, per capita (kWh)\")\n",
    "CE=ce.dropna()"
   ]
  },
  {
   "cell_type": "code",
   "execution_count": 70,
   "metadata": {},
   "outputs": [],
   "source": [
    "MORTES_EPIDEMIAS = MORTESEPIDEMIAS.loc[:,['Epidemic killed',2002]]\n",
    "me = MORTES_EPIDEMIAS.set_index(\"Epidemic killed\")\n",
    "ME=me.dropna()"
   ]
  },
  {
   "cell_type": "code",
   "execution_count": 71,
   "metadata": {},
   "outputs": [
    {
     "data": {
      "text/html": [
       "<div>\n",
       "<style scoped>\n",
       "    .dataframe tbody tr th:only-of-type {\n",
       "        vertical-align: middle;\n",
       "    }\n",
       "\n",
       "    .dataframe tbody tr th {\n",
       "        vertical-align: top;\n",
       "    }\n",
       "\n",
       "    .dataframe thead th {\n",
       "        text-align: right;\n",
       "    }\n",
       "</style>\n",
       "<table border=\"1\" class=\"dataframe\">\n",
       "  <thead>\n",
       "    <tr style=\"text-align: right;\">\n",
       "      <th></th>\n",
       "      <th>2002-HDI</th>\n",
       "      <th>2002-Mortos Por Epidemias</th>\n",
       "      <th>2002-Consumo De Energia Per Capita</th>\n",
       "    </tr>\n",
       "  </thead>\n",
       "  <tbody>\n",
       "    <tr>\n",
       "      <th>Albania</th>\n",
       "      <td>0.674</td>\n",
       "      <td>0</td>\n",
       "      <td>1459.433092</td>\n",
       "    </tr>\n",
       "    <tr>\n",
       "      <th>Algeria</th>\n",
       "      <td>0.663</td>\n",
       "      <td>0</td>\n",
       "      <td>714.702866</td>\n",
       "    </tr>\n",
       "    <tr>\n",
       "      <th>Angola</th>\n",
       "      <td>0.406</td>\n",
       "      <td>0</td>\n",
       "      <td>101.232157</td>\n",
       "    </tr>\n",
       "    <tr>\n",
       "      <th>Argentina</th>\n",
       "      <td>0.770</td>\n",
       "      <td>0</td>\n",
       "      <td>2017.405069</td>\n",
       "    </tr>\n",
       "    <tr>\n",
       "      <th>Australia</th>\n",
       "      <td>0.905</td>\n",
       "      <td>0</td>\n",
       "      <td>10813.122729</td>\n",
       "    </tr>\n",
       "  </tbody>\n",
       "</table>\n",
       "</div>"
      ],
      "text/plain": [
       "           2002-HDI  2002-Mortos Por Epidemias  \\\n",
       "Albania       0.674                          0   \n",
       "Algeria       0.663                          0   \n",
       "Angola        0.406                          0   \n",
       "Argentina     0.770                          0   \n",
       "Australia     0.905                          0   \n",
       "\n",
       "           2002-Consumo De Energia Per Capita  \n",
       "Albania                           1459.433092  \n",
       "Algeria                            714.702866  \n",
       "Angola                             101.232157  \n",
       "Argentina                         2017.405069  \n",
       "Australia                        10813.122729  "
      ]
     },
     "execution_count": 71,
     "metadata": {},
     "output_type": "execute_result"
    }
   ],
   "source": [
    "VARIFIN_1 = HH.join(ME, how=\"inner\", lsuffix=' ', rsuffix=' ')\n",
    "VARIFIN_2 = VARIFIN_1.join(CE, how='inner')\n",
    "VARIFIN_2.columns=('2002-HDI','2002-Mortos Por Epidemias', '2002-Consumo De Energia Per Capita')\n",
    "VARIFIN_2.head(5)"
   ]
  },
  {
   "cell_type": "code",
   "execution_count": 84,
   "metadata": {},
   "outputs": [
    {
     "data": {
      "image/png": "[encoded data removed]",
      "text/plain": [
       "<matplotlib.figure.Figure at 0x1a1568f2b0>"
      ]
     },
     "metadata": {},
     "output_type": "display_data"
    }
   ],
   "source": [
    "sns.regplot(VARIFIN_2[\"2002-HDI\"], VARIFIN_2[\"2002-Mortos Por Epidemias\"]);\n",
    "plt.title('Gráfico 1');"
   ]
  },
  {
   "cell_type": "code",
   "execution_count": 85,
   "metadata": {},
   "outputs": [
    {
     "data": {
      "image/png": "[encoded data removed]",
      "text/plain": [
       "<matplotlib.figure.Figure at 0x1a0d2c22b0>"
      ]
     },
     "metadata": {},
     "output_type": "display_data"
    }
   ],
   "source": [
    "sns.regplot(VARIFIN_2[\"2002-HDI\"], VARIFIN_2[\"2002-Consumo De Energia Per Capita\"]);\n",
    "plt.title('Gráfico 2');"
   ]
  },
  {
   "cell_type": "code",
   "execution_count": 87,
   "metadata": {},
   "outputs": [
    {
     "data": {
      "text/html": [
       "<div>\n",
       "<style scoped>\n",
       "    .dataframe tbody tr th:only-of-type {\n",
       "        vertical-align: middle;\n",
       "    }\n",
       "\n",
       "    .dataframe tbody tr th {\n",
       "        vertical-align: top;\n",
       "    }\n",
       "\n",
       "    .dataframe thead th {\n",
       "        text-align: right;\n",
       "    }\n",
       "</style>\n",
       "<table border=\"1\" class=\"dataframe\">\n",
       "  <thead>\n",
       "    <tr style=\"text-align: right;\">\n",
       "      <th></th>\n",
       "      <th>2002-HDI</th>\n",
       "      <th>2002-Mortos Por Epidemias</th>\n",
       "      <th>2002-Consumo De Energia Per Capita</th>\n",
       "    </tr>\n",
       "  </thead>\n",
       "  <tbody>\n",
       "    <tr>\n",
       "      <th>2002-HDI</th>\n",
       "      <td>1.000000</td>\n",
       "      <td>-0.228623</td>\n",
       "      <td>0.735416</td>\n",
       "    </tr>\n",
       "    <tr>\n",
       "      <th>2002-Mortos Por Epidemias</th>\n",
       "      <td>-0.228623</td>\n",
       "      <td>1.000000</td>\n",
       "      <td>-0.077379</td>\n",
       "    </tr>\n",
       "    <tr>\n",
       "      <th>2002-Consumo De Energia Per Capita</th>\n",
       "      <td>0.735416</td>\n",
       "      <td>-0.077379</td>\n",
       "      <td>1.000000</td>\n",
       "    </tr>\n",
       "  </tbody>\n",
       "</table>\n",
       "</div>"
      ],
      "text/plain": [
       "                                    2002-HDI  2002-Mortos Por Epidemias  \\\n",
       "2002-HDI                            1.000000                  -0.228623   \n",
       "2002-Mortos Por Epidemias          -0.228623                   1.000000   \n",
       "2002-Consumo De Energia Per Capita  0.735416                  -0.077379   \n",
       "\n",
       "                                    2002-Consumo De Energia Per Capita  \n",
       "2002-HDI                                                      0.735416  \n",
       "2002-Mortos Por Epidemias                                    -0.077379  \n",
       "2002-Consumo De Energia Per Capita                            1.000000  "
      ]
     },
     "execution_count": 87,
     "metadata": {},
     "output_type": "execute_result"
    }
   ],
   "source": [
    "VARIFIN_2.corr()"
   ]
  },
  {
   "cell_type": "markdown",
   "metadata": {},
   "source": [
    "## Conclusão\n",
    "\n",
    "Em primeiro lugar, podemos concluir que, através dos gráficos e da tabela de correlação, a teoria proposta na introdução de que epidemias matam mais pessoas em países subdesenvolvidos, é falha. Isso pode ser demonstrado pelos dados da tabela, os quais apontam que o valor está próximo de zero, ou seja o nível de correlação é baixo. A análise do gráfico 1 mostra o mesmo resultado. Logo, o HDI não é relevante para compor estimativas sobre mortes por epidemias.\n",
    "Também podemos pontuar que, através dos mesmos mecanismos de análise, há uma melhor correlação entre o HDI e o consumo de energia per capita. Após a verificação de determinadas pesquisas, assinala-se que países mais desenvolvidos utilizam mais energia, o que pode ser relacionado ao fato de possuírem maior acesso às novas tecnologias que, por sua vez, necessitam de mais energia.\n"
   ]
  },
  {
   "cell_type": "code",
   "execution_count": null,
   "metadata": {},
   "outputs": [],
   "source": []
  }
 ],
 "metadata": {
  "kernelspec": {
   "display_name": "Python 3",
   "language": "python",
   "name": "python3"
  },
  "language_info": {
   "codemirror_mode": {
    "name": "ipython",
    "version": 3
   },
   "file_extension": ".py",
   "mimetype": "text/x-python",
   "name": "python",
   "nbconvert_exporter": "python",
   "pygments_lexer": "ipython3",
   "version": "3.6.4"
  }
 },
 "nbformat": 4,
 "nbformat_minor": 2
}
